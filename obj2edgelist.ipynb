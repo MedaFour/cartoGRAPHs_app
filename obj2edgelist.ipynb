{
 "cells": [
  {
   "cell_type": "markdown",
   "id": "c9ddf48a-76da-49e7-b2d4-0ccf29423672",
   "metadata": {
    "tags": []
   },
   "source": [
    "### This notebook produces an edgelist from an OBJ to use as exemplary graph in the web app. \n",
    "The 3D Stanford bunny model was retrieved from sketchfab / https://graphics.stanford.edu/~mdfisher/Data/Meshes/bunny.obj\n"
   ]
  },
  {
   "cell_type": "code",
   "execution_count": 24,
   "id": "8d1c0646-0625-4b21-8087-f444c3ca6ba3",
   "metadata": {},
   "outputs": [],
   "source": [
    "import networkx as nx \n",
    "import numpy as np\n",
    "import pandas as pd"
   ]
  },
  {
   "cell_type": "markdown",
   "id": "c52cfcf3-faf6-41f5-86ba-b3b31b3a56fd",
   "metadata": {},
   "source": [
    "## Example Obj to Graph \n",
    "code for parsing obj (modified from here: https://github.com/kohterai/OBJ-Parser/blob/master/objParser.py)"
   ]
  },
  {
   "cell_type": "code",
   "execution_count": 9,
   "id": "a45fc512-152e-4d04-a87d-a5f37ed20e90",
   "metadata": {},
   "outputs": [
    {
     "name": "stdout",
     "output_type": "stream",
     "text": [
      "Total vertices: 5\n"
     ]
    }
   ],
   "source": [
    "objFile = open('input/bunny2.obj', 'r') #'input/bunny.obj', 'r')\n",
    "\n",
    "vertexList = []\n",
    "finalVertexList = []\n",
    "edgeList = []\n",
    "\n",
    "for line in objFile:\n",
    "    split = line.split()\n",
    "    if not len(split):\n",
    "        continue\n",
    "    if split[0] == \"v\":\n",
    "        vertexList.append(split[1:])\n",
    "    elif split[0] == \"f\":\n",
    "        count=1\n",
    "        firstSet=[]\n",
    "        secondSet=[]\n",
    "        while count<4: #4 \n",
    "            removeSlash = split[count].split(' ') # (' ') \n",
    "            if count == 1:\n",
    "                node1 = int(split[count])\n",
    "                firstSet.append(vertexList[int(removeSlash[0])-1])             \n",
    "                secondSet.append(vertexList[int(removeSlash[0])-1])\n",
    "            elif count == 2:\n",
    "                node2 = int(split[count])\n",
    "                firstSet.append(vertexList[int(removeSlash[0])-1])\n",
    "            elif count == 3:\n",
    "                node3 = int(split[count])\n",
    "                firstSet.append(vertexList[int(removeSlash[0])-1])\n",
    "                secondSet.append(vertexList[int(removeSlash[0])-1])\n",
    "            elif count == 4:\n",
    "                secondSet.append(vertexList[int(removeSlash[0])-1])\n",
    "            \n",
    "            count+=1\n",
    "        \n",
    "        edgeList.append((node1,node2))\n",
    "        edgeList.append((node2,node3))\n",
    "            \n",
    "        finalVertexList.append(firstSet)\n",
    "        finalVertexList.append(secondSet)\n",
    "    \n",
    "\n",
    "print (\"Total vertices: \" + str(len(vertexList)))\n",
    "\n",
    "objFile.close()"
   ]
  },
  {
   "cell_type": "code",
   "execution_count": 10,
   "id": "202b1d95-2ab8-4ae2-848e-5c9e228ca94e",
   "metadata": {},
   "outputs": [
    {
     "data": {
      "text/plain": [
       "[(1, 2), (2, 3), (1, 3), (3, 5), (2, 4), (4, 5)]"
      ]
     },
     "execution_count": 10,
     "metadata": {},
     "output_type": "execute_result"
    }
   ],
   "source": [
    "edgeList"
   ]
  },
  {
   "cell_type": "code",
   "execution_count": 11,
   "id": "4499d083-d47a-4fd1-b78a-2ea8fa8e007a",
   "metadata": {},
   "outputs": [],
   "source": [
    "G_test = nx.Graph(edgeList)"
   ]
  },
  {
   "cell_type": "code",
   "execution_count": 12,
   "id": "ae848390-6c70-4d89-8776-c584ec4820fe",
   "metadata": {},
   "outputs": [
    {
     "data": {
      "image/png": "[encoded data removed]",
      "text/plain": [
       "<Figure size 432x288 with 1 Axes>"
      ]
     },
     "metadata": {},
     "output_type": "display_data"
    }
   ],
   "source": [
    "nx.draw(G_test) "
   ]
  },
  {
   "cell_type": "markdown",
   "id": "050109ed-99f5-467c-8820-8a37c9246499",
   "metadata": {},
   "source": [
    "## Stanford Bunny to Graph"
   ]
  },
  {
   "cell_type": "code",
   "execution_count": 95,
   "id": "026289eb-e3d4-43e0-9aa5-9b710572e425",
   "metadata": {},
   "outputs": [
    {
     "name": "stdout",
     "output_type": "stream",
     "text": [
      "Total vertices: 2503\n"
     ]
    }
   ],
   "source": [
    "objFile = open('input/bunny.obj', 'r') #'input/bunny.obj', 'r')\n",
    "\n",
    "vertexList = []\n",
    "finalVertexList = []\n",
    "edgeList = []\n",
    "\n",
    "for line in objFile:\n",
    "    split = line.split()\n",
    "    if not len(split):\n",
    "        continue\n",
    "    if split[0] == \"v\":\n",
    "        vertexList.append(split[1:])\n",
    "    elif split[0] == \"f\":\n",
    "        count=1\n",
    "        firstSet=[]\n",
    "        secondSet=[]\n",
    "        while count<4: #4 \n",
    "            removeSlash = split[count].split(' ') # (' ') \n",
    "            if count == 1:\n",
    "                node1 = int(split[count])-1\n",
    "                firstSet.append(vertexList[int(removeSlash[0])-1])             \n",
    "                secondSet.append(vertexList[int(removeSlash[0])-1])\n",
    "            elif count == 2:\n",
    "                node2 = int(split[count])-1\n",
    "                firstSet.append(vertexList[int(removeSlash[0])-1])\n",
    "            elif count == 3:\n",
    "                node3 = int(split[count])-1\n",
    "                firstSet.append(vertexList[int(removeSlash[0])-1])\n",
    "                secondSet.append(vertexList[int(removeSlash[0])-1])\n",
    "            elif count == 4:\n",
    "                secondSet.append(vertexList[int(removeSlash[0])-1])\n",
    "            \n",
    "            count+=1\n",
    "        \n",
    "        edgeList.append((str(node1),str(node2)))\n",
    "        edgeList.append((str(node2),str(node3)))\n",
    "            \n",
    "        finalVertexList.append(firstSet)\n",
    "        finalVertexList.append(secondSet)\n",
    "    \n",
    "\n",
    "print (\"Total vertices: \" + str(len(vertexList)))\n",
    "\n",
    "objFile.close()"
   ]
  },
  {
   "cell_type": "code",
   "execution_count": 96,
   "id": "f1a9431c-a346-4c33-8571-97f581871f59",
   "metadata": {},
   "outputs": [],
   "source": [
    "G_bunny = nx.Graph(edgeList)"
   ]
  },
  {
   "cell_type": "markdown",
   "id": "5052ff71-6cc1-4489-851c-a461e85f7839",
   "metadata": {},
   "source": [
    "### save Edgelist to text "
   ]
  },
  {
   "cell_type": "code",
   "execution_count": 98,
   "id": "6df93c59-196d-4ef6-8070-dbc34a54b1f0",
   "metadata": {},
   "outputs": [],
   "source": [
    "nx.write_edgelist(G_bunny, 'bunny_graph.txt',data=False) "
   ]
  },
  {
   "cell_type": "markdown",
   "id": "bdfe40f6-bdd3-455f-8e2a-e05945d55a2b",
   "metadata": {},
   "source": [
    "### read Edgelist from text "
   ]
  },
  {
   "cell_type": "code",
   "execution_count": 99,
   "id": "d531b4be-4661-45e9-b41f-97fd10445c75",
   "metadata": {},
   "outputs": [],
   "source": [
    "G = nx.read_edgelist('bunny_graph.txt',data=False) "
   ]
  },
  {
   "cell_type": "markdown",
   "id": "37e8cd64-4ce2-4855-b6b8-18e52f5ec934",
   "metadata": {},
   "source": [
    "### make functional feature Matrix for Stanford Bunny "
   ]
  },
  {
   "cell_type": "code",
   "execution_count": 100,
   "id": "91bbc83b-a2c8-483f-8706-7dfa365e2f29",
   "metadata": {},
   "outputs": [],
   "source": [
    "scale = 1\n",
    "val = 0\n",
    "\n",
    "rows = len(list(G.nodes()))\n",
    "feat_one = [(val) if i%3 else (scale) for i in range(rows)]\n",
    "feat_two = [(val) if i%2 or feat_one[i]==scale in feat_one else (scale) for i in range(rows)]\n",
    "feat_three = [(scale) if feat_one[i]==val and feat_two[i]==val else val for i in range(rows)]\n",
    "feat_matrix = np.vstack((feat_one,feat_two,feat_three))\n",
    "\n",
    "DF_functional = pd.DataFrame(feat_matrix)\n",
    "DF_functional.index = [100,101,102]\n",
    "DF_functional.columns = list(G.nodes())"
   ]
  },
  {
   "cell_type": "code",
   "execution_count": 103,
   "id": "7e0ce1e1-825d-409d-856f-813f4a43e786",
   "metadata": {},
   "outputs": [],
   "source": [
    "# ----------------------------------\n",
    "# Visual settings based on features \n",
    "# ----------------------------------\n",
    "col_one = 'orange' \n",
    "col_two = 'cornflowerblue'\n",
    "col_three = 'skyblue'\n",
    "\n",
    "colors_assigned_unsorted = {}\n",
    "for i,feat in enumerate(feat_matrix):\n",
    "    if i == 0:\n",
    "        col = col_one\n",
    "    elif i == 1:\n",
    "        col = col_two\n",
    "    elif i == 2: \n",
    "        col = col_three\n",
    "    for j,v in enumerate(feat):\n",
    "        if v == 1:\n",
    "            colors_assigned_unsorted[str(j)]=col\n",
    "        else:\n",
    "            pass"
   ]
  },
  {
   "cell_type": "code",
   "execution_count": 105,
   "id": "7bdfe801-59ec-4d5f-91cf-4bffb4d3b866",
   "metadata": {},
   "outputs": [],
   "source": [
    "colors_assigned = {key:colors_assigned_unsorted[key] for key in list(G_bunny.nodes())}\n",
    "d_colors = colors_assigned \n",
    "color_list = list(colors_assigned.values())\n",
    "\n",
    "first_groupname = 'feature1'\n",
    "second_groupname = 'feature2'\n",
    "third_groupname = 'feature3'\n",
    "d_legend = dict(zip(set(d_colors.values()),[first_groupname,second_groupname,third_groupname]))"
   ]
  },
  {
   "cell_type": "markdown",
   "id": "b5b59b06-4e28-4d3f-b5c1-718b818e6717",
   "metadata": {},
   "source": [
    "### save Feature matrix "
   ]
  },
  {
   "cell_type": "code",
   "execution_count": 108,
   "id": "14be135a-6c52-4700-8cd4-079b3aceb285",
   "metadata": {},
   "outputs": [],
   "source": [
    "pd.DataFrame.to_csv(DF_functional, 'bunny_featurematrix.csv', index = 0)"
   ]
  },
  {
   "cell_type": "code",
   "execution_count": null,
   "id": "f8e35f8d-8a5a-4fa1-8235-461f12e84371",
   "metadata": {},
   "outputs": [],
   "source": []
  },
  {
   "cell_type": "code",
   "execution_count": null,
   "id": "31f4168f-0789-4237-9084-5894b5ab57ad",
   "metadata": {},
   "outputs": [],
   "source": []
  },
  {
   "cell_type": "code",
   "execution_count": null,
   "id": "7d15e840-fba9-4d4d-b3e0-5ebe0656fb13",
   "metadata": {},
   "outputs": [],
   "source": []
  },
  {
   "cell_type": "markdown",
   "id": "1fd81930-de8b-4d77-9795-38ad4b272ff0",
   "metadata": {},
   "source": [
    "# Precalculate Bunny Graph Layouts"
   ]
  },
  {
   "cell_type": "code",
   "execution_count": 110,
   "id": "0db9aa87-4046-4060-8c5c-37b5291d2f33",
   "metadata": {},
   "outputs": [
    {
     "name": "stdout",
     "output_type": "stream",
     "text": [
      "DEBUG: in init: import modules\n",
      "DEBUG:in cartographs\n",
      "DEBUG:in cartographs - import done\n",
      "DEBUG: in init: import done\n"
     ]
    }
   ],
   "source": [
    "from cartoGRAPHs import *"
   ]
  },
  {
   "cell_type": "markdown",
   "id": "f0cd3e43-4e7a-4f04-a760-6e50b4c4ed6a",
   "metadata": {},
   "source": [
    "### LOCAL "
   ]
  },
  {
   "cell_type": "code",
   "execution_count": 114,
   "id": "8328149d-2e75-4c59-9417-e812afdd7807",
   "metadata": {},
   "outputs": [],
   "source": [
    "A = nx.adjacency_matrix(G, nodelist=list(G.nodes()))\n",
    "DM_adj = A.toarray()\n",
    "\n",
    "Matrix_local = pd.DataFrame(DM_adj, columns = list(G.nodes()), index=list(G.nodes()))"
   ]
  },
  {
   "cell_type": "markdown",
   "id": "d9365060-6fc9-4311-b5b9-cb8aa7114fdf",
   "metadata": {},
   "source": [
    "### GLOBAL"
   ]
  },
  {
   "cell_type": "code",
   "execution_count": 116,
   "id": "db2e61b2-b948-442b-856e-4f3e7ef3a86b",
   "metadata": {},
   "outputs": [],
   "source": [
    "r = 0.9\n",
    "alpha = 1.0 \n",
    "\n",
    "DM_m = rnd_walk_matrix2(A, r, alpha, len(G.nodes()))\n",
    "DM_m_df = pd.DataFrame(DM_m)\n",
    "DM_m_df.sum(axis=1) \n",
    "\n",
    "DM_m_df.index=list(G.nodes())\n",
    "DM_m_df.columns=list(G.nodes())\n",
    "\n",
    "DM_m_df_T = DM_m_df.T\n",
    "Matrix_global = DM_m_df_T.round(6) "
   ]
  },
  {
   "cell_type": "markdown",
   "id": "8277b676-d918-4140-85c5-57b53cff01ac",
   "metadata": {},
   "source": [
    "### IMPORTANCE"
   ]
  },
  {
   "cell_type": "code",
   "execution_count": 121,
   "id": "5152c627-9092-4696-ac54-567c79f54486",
   "metadata": {},
   "outputs": [],
   "source": [
    "# DEGREE CENTRALITY - Node degree: important nodes being involved within high number of interactions\n",
    "degs = dict(G.degree())\n",
    "d_deghubs = {}\n",
    "for node, de in sorted(degs.items(),key = lambda x: x[1], reverse = 1):\n",
    "    d_deghubs[node] = round(float(de/max(degs.values())),4)"
   ]
  },
  {
   "cell_type": "code",
   "execution_count": 122,
   "id": "387f3271-be44-4ce9-bcf1-d8d4871e92ac",
   "metadata": {},
   "outputs": [],
   "source": [
    "# CLOSENESS CENTRALITY - Measures how closely a node is connected to all other nodes to highlight f.ex. core-periphery structure, or identify central nodes\n",
    "closeness = nx.closeness_centrality(G)\n",
    "d_clos = {}\n",
    "for node, cl in sorted(closeness.items(), key = lambda x: x[1], reverse = 1):\n",
    "    d_clos[node] = round(cl,4)"
   ]
  },
  {
   "cell_type": "code",
   "execution_count": 127,
   "id": "51cdc579-4dcc-4f3e-8e6b-631a59628220",
   "metadata": {},
   "outputs": [],
   "source": [
    "# BETWEENESS CENTRALITY - How many shortest paths between pairs of other nodes in the network go through one node. High BC indicates \"bottleneck nodes\" in the network\n",
    "betweens = nx.betweenness_centrality(G)\n",
    "d_betw = {}\n",
    "for node, be in sorted(betweens.items(), key = lambda x: x[1], reverse = 1):\n",
    "     d_betw[node] = round(be,4)"
   ]
  },
  {
   "cell_type": "code",
   "execution_count": 124,
   "id": "8d762f27-ce6e-4cc6-b555-095647f300d6",
   "metadata": {},
   "outputs": [],
   "source": [
    "# EIGENVECTOR CENTRALITY - Compute the eigenvector centrality for the graph\n",
    "eigen = nx.eigenvector_centrality_numpy(G)\n",
    "d_eigen = {}\n",
    "for node, eig in sorted(eigen.items(), key = lambda x: x[1], reverse = 1):\n",
    "     d_eigen[node] = round(eig,4)  "
   ]
  },
  {
   "cell_type": "code",
   "execution_count": 128,
   "id": "1652b0ad-e38f-4e94-9c47-049becc55e12",
   "metadata": {},
   "outputs": [],
   "source": [
    "d_deghubs_sorted = {key:d_deghubs[key] for key in sorted(d_deghubs.keys())}\n",
    "d_clos_sorted = {key:d_clos[key] for key in sorted(d_clos.keys())}\n",
    "d_betw_sorted = {key:d_betw[key] for key in sorted(d_betw.keys())}\n",
    "d_eigen_sorted = {key:d_eigen[key] for key in sorted(d_eigen.keys())}\n",
    "\n",
    "# feature collection\n",
    "feature_dict = dict(zip(d_deghubs_sorted.keys(), zip(\n",
    "                                                     d_deghubs_sorted.values(), \n",
    "                                                     d_clos_sorted.values(), \n",
    "                                                     d_betw_sorted.values(), \n",
    "                                                     d_eigen_sorted.values(),\n",
    "                                                    )))\n",
    "\n",
    "# IMPORTANT :\n",
    "# sort all feature according to Graph node IDs\n",
    "feature_dict_sorted = {key:feature_dict[key] for key in G.nodes()}\n",
    "Matrix_importance = pd.DataFrame.from_dict(feature_dict_sorted, orient = 'index', columns = ['degs', \n",
    "                                                                                      'clos', \n",
    "                                                                                      'betw', \n",
    "                                                                                      'eigen',\n",
    "                                                                                      ])"
   ]
  },
  {
   "cell_type": "markdown",
   "id": "1933de74-b571-4c17-9f29-8b0ce9e3057c",
   "metadata": {},
   "source": [
    "### FUNCTIONAL"
   ]
  },
  {
   "cell_type": "code",
   "execution_count": 136,
   "id": "b080b0f9-a19f-4438-9450-c8fbc4faca4b",
   "metadata": {},
   "outputs": [],
   "source": [
    "Matrix_functional = pd.read_csv('input/bunny_featurematrix.csv')\n",
    "Matrix_functional.columns = list(G.nodes())"
   ]
  },
  {
   "cell_type": "markdown",
   "id": "5b76c319-d23d-4517-8800-4234fd7c956e",
   "metadata": {},
   "source": [
    "# LAYOUTS"
   ]
  },
  {
   "cell_type": "code",
   "execution_count": 153,
   "id": "b63b9bc1-7f70-42dd-8fec-dbf4233b52e3",
   "metadata": {},
   "outputs": [
    {
     "name": "stdout",
     "output_type": "stream",
     "text": [
      "CPU times: user 19 s, sys: 279 ms, total: 19.3 s\n",
      "Wall time: 18.7 s\n"
     ]
    }
   ],
   "source": [
    "%%time \n",
    "\n",
    "n_n = 8 #20  \n",
    "spr = 1.0 #1.0 #0.9  \n",
    "md = 0.1 #0.1 #0.25 \n",
    "\n",
    "posG3D = layout_portrait_umap(G,\n",
    "                                   Matrix_global,\n",
    "                                   3,\n",
    "                                   n_neighbors=n_n, \n",
    "                                   spread=spr, \n",
    "                                   min_dist=md, \n",
    "                                   metric='cosine'\n",
    "                                  )"
   ]
  },
  {
   "cell_type": "code",
   "execution_count": 154,
   "id": "8e94ba95-febe-4675-b1b0-af5477609b1e",
   "metadata": {},
   "outputs": [
    {
     "data": {
      "text/plain": [
       "'Portrait_3D.html'"
      ]
     },
     "execution_count": 154,
     "metadata": {},
     "output_type": "execute_result"
    }
   ],
   "source": [
    "plot_3Dfigure(G, posG3D, \n",
    "              d_features = None, \n",
    "              d_colors = None, \n",
    "              d_size = None, \n",
    "              d_legend = None, \n",
    "              path = '', \n",
    "              fname = 'Portrait_3D', \n",
    "              scheme = 'light',\n",
    "              #with_edges = False\n",
    "             )"
   ]
  },
  {
   "cell_type": "code",
   "execution_count": null,
   "id": "ed96ba96-a408-4502-9de5-634fecb49e0d",
   "metadata": {},
   "outputs": [],
   "source": [
    "export_to_csv3D(path = '', \n",
    "                layout_namespace = 'Portrait_3D', \n",
    "                posG = posG3D, \n",
    "                colors = None\n",
    "               )"
   ]
  },
  {
   "cell_type": "code",
   "execution_count": null,
   "id": "324471c8-733e-46d0-ace0-d23dd3339cee",
   "metadata": {},
   "outputs": [],
   "source": []
  },
  {
   "cell_type": "code",
   "execution_count": null,
   "id": "87d54fe8-85a1-47e2-a626-48c9864bbd4d",
   "metadata": {},
   "outputs": [],
   "source": []
  },
  {
   "cell_type": "code",
   "execution_count": null,
   "id": "3ac3f6b9-8ace-43a7-a1ff-64a95cb5b7c6",
   "metadata": {},
   "outputs": [],
   "source": []
  },
  {
   "cell_type": "code",
   "execution_count": null,
   "id": "cc1efb1f-1dae-47da-ad0a-6538f066ab45",
   "metadata": {},
   "outputs": [],
   "source": []
  },
  {
   "cell_type": "code",
   "execution_count": null,
   "id": "914e7421-69c9-44f5-b7e4-2cc47c2ba523",
   "metadata": {},
   "outputs": [],
   "source": []
  }
 ],
 "metadata": {
  "kernelspec": {
   "display_name": "myenv",
   "language": "python",
   "name": "myenv"
  },
  "language_info": {
   "codemirror_mode": {
    "name": "ipython",
    "version": 3
   },
   "file_extension": ".py",
   "mimetype": "text/x-python",
   "name": "python",
   "nbconvert_exporter": "python",
   "pygments_lexer": "ipython3",
   "version": "3.8.2"
  }
 },
 "nbformat": 4,
 "nbformat_minor": 5
}
