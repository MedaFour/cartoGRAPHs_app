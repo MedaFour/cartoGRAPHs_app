{
 "cells": [
  {
   "cell_type": "code",
   "execution_count": null,
   "metadata": {},
   "outputs": [],
   "source": [
    "# ------------------\n",
    "# FUNCTIONS \n",
    "# ------------------\n",
    "\n",
    "\n",
    "def get_trace_nodes_2D(posG, info_list, color_list, size):\n",
    "\n",
    "    key_list=list(posG.keys())\n",
    "    trace = pgo.Scatter(x=[posG[key_list[i]][0] for i in range(len(key_list))],\n",
    "                           y=[posG[key_list[i]][1] for i in range(len(key_list))],\n",
    "                           mode = 'markers',\n",
    "                           text = info_list,\n",
    "                           hoverinfo = 'text',\n",
    "                           #textposition='middle center',\n",
    "                           marker = dict(\n",
    "                color = color_list,\n",
    "                size = size,\n",
    "                symbol = 'circle',\n",
    "                line = dict(width = 1.0,\n",
    "                        color = color_list)\n",
    "            ),\n",
    "        )\n",
    "    \n",
    "    return trace\n",
    "\n",
    "\n",
    "def get_trace_edges_2D(G, posG, color_list, opac = 0.2):\n",
    "    edge_x = []\n",
    "    edge_y = []\n",
    "    for edge in G.edges():\n",
    "        x0, y0 = posG[edge[0]]\n",
    "        x1, y1 = posG[edge[1]]\n",
    "        edge_x.append(x0)\n",
    "        edge_x.append(x1)\n",
    "        edge_x.append(None)\n",
    "        edge_y.append(y0)\n",
    "        edge_y.append(y1)\n",
    "        edge_y.append(None)\n",
    " \n",
    "    trace_edges = pgo.Scatter(\n",
    "                        x = edge_x, \n",
    "                        y = edge_y, \n",
    "                        mode = 'lines', hoverinfo='none',\n",
    "                        line = dict(width = 0.2, color = color_list),\n",
    "                        opacity = opac\n",
    "                )\n",
    "    \n",
    "    return trace_edges"
   ]
  },
  {
   "cell_type": "code",
   "execution_count": null,
   "metadata": {},
   "outputs": [],
   "source": []
  },
  {
   "cell_type": "code",
   "execution_count": null,
   "metadata": {},
   "outputs": [],
   "source": [
    "# -----------------\n",
    "# 2D PORTRAIT \n",
    "# -----------------\n",
    "df2D = pd.read_csv('data/NEON_portrait2Dumap_Yeast.csv', header=None)\n",
    "df2D.columns = ['id','x','y','z','r','g','b','a','namespace']\n",
    "\n",
    "ids2D = list(G.nodes())\n",
    "x_2D = list(df2D['x'])\n",
    "y_2D = list(df2D['y'])\n",
    "posG_2D = dict(zip(ids2D,zip(x_2D,y_2D)))\n",
    "\n",
    "umap2D_nodes = get_trace_nodes_2D(posG_2D, l_features, colours, size) \n",
    "umap2D_edges = get_trace_edges_2D(G, posG_2D, edge_colordark, opac=0.4) \n",
    "umap2D_data = [umap2D_edges, umap2D_nodes]\n",
    "\n",
    "fig2D = pgo.Figure()\n",
    "for i in umap2D_data:\n",
    "    fig2D.add_trace(i)\n",
    "\n",
    "fig2D.update_layout(\n",
    "                    margin=dict(l=0, r=0, t=0, b=0),\n",
    "                    template='plotly_white', \n",
    "                    plot_bgcolor='white',\n",
    "                    font_color=\"white\",\n",
    "                    showlegend=False, autosize = True,#width=1600, height=800,\n",
    "                    xaxis = {'showgrid':False,'zeroline':False,},\n",
    "                    yaxis = {'showgrid':False,'zeroline':False}\n",
    "                )   "
   ]
  },
  {
   "cell_type": "code",
   "execution_count": null,
   "metadata": {},
   "outputs": [],
   "source": []
  },
  {
   "cell_type": "code",
   "execution_count": null,
   "metadata": {},
   "outputs": [],
   "source": []
  },
  {
   "cell_type": "code",
   "execution_count": null,
   "metadata": {},
   "outputs": [],
   "source": []
  },
  {
   "cell_type": "code",
   "execution_count": null,
   "metadata": {},
   "outputs": [],
   "source": []
  },
  {
   "cell_type": "code",
   "execution_count": null,
   "metadata": {},
   "outputs": [],
   "source": []
  },
  {
   "cell_type": "code",
   "execution_count": null,
   "metadata": {},
   "outputs": [],
   "source": []
  }
 ],
 "metadata": {
  "kernelspec": {
   "display_name": "Python 3",
   "language": "python",
   "name": "python3"
  },
  "language_info": {
   "codemirror_mode": {
    "name": "ipython",
    "version": 3
   },
   "file_extension": ".py",
   "mimetype": "text/x-python",
   "name": "python",
   "nbconvert_exporter": "python",
   "pygments_lexer": "ipython3",
   "version": "3.8.3"
  }
 },
 "nbformat": 4,
 "nbformat_minor": 4
}
