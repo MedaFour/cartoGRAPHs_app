{
 "cells": [
  {
   "cell_type": "markdown",
   "id": "83c817fa-4c3e-4dfd-934d-39ed4dcee9ca",
   "metadata": {},
   "source": [
    "# MAKE FEATURE MATRICES FOR EXAMPLE GRAPHS "
   ]
  },
  {
   "cell_type": "code",
   "execution_count": 8,
   "id": "8e0d6692-de3c-4a6d-8139-430f8ddd0bd4",
   "metadata": {},
   "outputs": [
    {
     "name": "stdout",
     "output_type": "stream",
     "text": [
      "DEBUG: in init: import modules\n",
      "DEBUG:in cartographs\n",
      "DEBUG:in cartographs - import done\n",
      "DEBUG: in init: import done\n"
     ]
    }
   ],
   "source": [
    "from cartoGRAPHs import * "
   ]
  },
  {
   "cell_type": "code",
   "execution_count": 9,
   "id": "17f536ce-7847-4cb3-a93d-c6ac771446e9",
   "metadata": {},
   "outputs": [
    {
     "data": {
      "text/plain": [
       "'/Users/chris/Desktop/Github/cartoGRAPHs_app'"
      ]
     },
     "execution_count": 9,
     "metadata": {},
     "output_type": "execute_result"
    }
   ],
   "source": [
    "os.getcwd()"
   ]
  },
  {
   "cell_type": "code",
   "execution_count": 10,
   "id": "da18ab6d-e7e1-4a84-9173-c21e84ccfa5a",
   "metadata": {},
   "outputs": [],
   "source": [
    "path = 'cartoGRAPHs_app/input/'"
   ]
  },
  {
   "cell_type": "markdown",
   "id": "2e66ee05-fd1d-4a6a-8dc8-f43b2749a205",
   "metadata": {},
   "source": [
    "# -------------------------"
   ]
  },
  {
   "cell_type": "code",
   "execution_count": 106,
   "id": "d7099acc-cb68-44f2-acb5-e667111ad2d9",
   "metadata": {},
   "outputs": [],
   "source": [
    "# get the graphs\n",
    "G_grid = nx.read_edgelist(path+'Graph_grid_elist.txt')\n",
    "G_model100 = nx.read_edgelist(path+'modelnetwork_n100_elist.txt')"
   ]
  },
  {
   "cell_type": "code",
   "execution_count": 127,
   "id": "7b093907-6036-4d37-b02b-849b6eccabfa",
   "metadata": {},
   "outputs": [],
   "source": [
    "# set graph to create matrix for \n",
    "\n",
    "#network_name = 'graph_grid_'\n",
    "#G = G_grid\n",
    "\n",
    "network_name = 'modelnetwork_n100_' \n",
    "G = G_model100"
   ]
  },
  {
   "cell_type": "markdown",
   "id": "cff55631-8cd0-473d-b7bb-7be7edeb4f60",
   "metadata": {},
   "source": [
    "### CREATE FEATURE MATRIX for all G.nodes"
   ]
  },
  {
   "cell_type": "code",
   "execution_count": 128,
   "id": "73466d85-5d39-478d-857f-3a02e5f78ae0",
   "metadata": {},
   "outputs": [],
   "source": [
    "graph_nodes = [str(i) for i in list(G.nodes())]     \n",
    " \n",
    "scale = 1\n",
    "val = 0\n",
    "rows = len(list(G.nodes()))\n",
    "feat_one = [(val) if i%4 else (scale) for i in range(rows)]\n",
    "feat_two = [(val) if i%3 or feat_one[i]==scale in feat_one else (scale) for i in range(rows)]\n",
    "feat_three = [(scale) if feat_one[i]==val and feat_two[i]==val else val for i in range(rows)]\n",
    "feat_matrix = np.vstack((feat_one,feat_two,feat_three))\n",
    "FM = pd.DataFrame(feat_matrix).T\n",
    "FM.index = list(G.nodes())\n",
    "FM.index = FM.index.map(str) # > only works if index=G.nodes"
   ]
  },
  {
   "cell_type": "code",
   "execution_count": 129,
   "id": "628cafcf-81f9-4765-bab7-ade1cb4a3864",
   "metadata": {},
   "outputs": [
    {
     "data": {
      "text/html": [
       "<div>\n",
       "<style scoped>\n",
       "    .dataframe tbody tr th:only-of-type {\n",
       "        vertical-align: middle;\n",
       "    }\n",
       "\n",
       "    .dataframe tbody tr th {\n",
       "        vertical-align: top;\n",
       "    }\n",
       "\n",
       "    .dataframe thead th {\n",
       "        text-align: right;\n",
       "    }\n",
       "</style>\n",
       "<table border=\"1\" class=\"dataframe\">\n",
       "  <thead>\n",
       "    <tr style=\"text-align: right;\">\n",
       "      <th></th>\n",
       "      <th>0</th>\n",
       "      <th>1</th>\n",
       "      <th>2</th>\n",
       "    </tr>\n",
       "  </thead>\n",
       "  <tbody>\n",
       "    <tr>\n",
       "      <th>4218</th>\n",
       "      <td>1</td>\n",
       "      <td>0</td>\n",
       "      <td>0</td>\n",
       "    </tr>\n",
       "    <tr>\n",
       "      <th>10133</th>\n",
       "      <td>0</td>\n",
       "      <td>0</td>\n",
       "      <td>1</td>\n",
       "    </tr>\n",
       "    <tr>\n",
       "      <th>9230</th>\n",
       "      <td>0</td>\n",
       "      <td>0</td>\n",
       "      <td>1</td>\n",
       "    </tr>\n",
       "    <tr>\n",
       "      <th>79735</th>\n",
       "      <td>0</td>\n",
       "      <td>1</td>\n",
       "      <td>0</td>\n",
       "    </tr>\n",
       "    <tr>\n",
       "      <th>1994</th>\n",
       "      <td>1</td>\n",
       "      <td>0</td>\n",
       "      <td>0</td>\n",
       "    </tr>\n",
       "    <tr>\n",
       "      <th>...</th>\n",
       "      <td>...</td>\n",
       "      <td>...</td>\n",
       "      <td>...</td>\n",
       "    </tr>\n",
       "    <tr>\n",
       "      <th>976</th>\n",
       "      <td>0</td>\n",
       "      <td>0</td>\n",
       "      <td>1</td>\n",
       "    </tr>\n",
       "    <tr>\n",
       "      <th>131405</th>\n",
       "      <td>1</td>\n",
       "      <td>0</td>\n",
       "      <td>0</td>\n",
       "    </tr>\n",
       "    <tr>\n",
       "      <th>1565</th>\n",
       "      <td>0</td>\n",
       "      <td>0</td>\n",
       "      <td>1</td>\n",
       "    </tr>\n",
       "    <tr>\n",
       "      <th>1557</th>\n",
       "      <td>0</td>\n",
       "      <td>0</td>\n",
       "      <td>1</td>\n",
       "    </tr>\n",
       "    <tr>\n",
       "      <th>10452</th>\n",
       "      <td>0</td>\n",
       "      <td>1</td>\n",
       "      <td>0</td>\n",
       "    </tr>\n",
       "  </tbody>\n",
       "</table>\n",
       "<p>100 rows × 3 columns</p>\n",
       "</div>"
      ],
      "text/plain": [
       "        0  1  2\n",
       "4218    1  0  0\n",
       "10133   0  0  1\n",
       "9230    0  0  1\n",
       "79735   0  1  0\n",
       "1994    1  0  0\n",
       "...    .. .. ..\n",
       "976     0  0  1\n",
       "131405  1  0  0\n",
       "1565    0  0  1\n",
       "1557    0  0  1\n",
       "10452   0  1  0\n",
       "\n",
       "[100 rows x 3 columns]"
      ]
     },
     "execution_count": 129,
     "metadata": {},
     "output_type": "execute_result"
    }
   ],
   "source": [
    "FM"
   ]
  },
  {
   "cell_type": "code",
   "execution_count": 130,
   "id": "d0106a54-71e2-4436-b75c-e889b99dd0d4",
   "metadata": {},
   "outputs": [],
   "source": [
    "FM.to_csv(path+network_name+'features.csv')"
   ]
  },
  {
   "cell_type": "markdown",
   "id": "8099a607-d911-4275-a75a-4f83ee0b1549",
   "metadata": {},
   "source": [
    "# ------------------------------------------------"
   ]
  },
  {
   "cell_type": "code",
   "execution_count": 96,
   "id": "678b71c0-45b4-4103-894b-fd307de20442",
   "metadata": {},
   "outputs": [],
   "source": [
    "G_tor = nx.read_edgelist(path+'Graph_tor_elist.txt')\n",
    "G_model1000 = nx.read_edgelist(path+'modelnetwork_n1000_elist.txt')"
   ]
  },
  {
   "cell_type": "markdown",
   "id": "29829acd-04aa-4112-86cc-bb24cb161aa1",
   "metadata": {},
   "source": [
    "### CREATE FEATURE MATRIX for a subgroup of G.nodes"
   ]
  },
  {
   "cell_type": "code",
   "execution_count": 121,
   "id": "67eed138-c4b1-4f4f-98e5-eb13fe678116",
   "metadata": {},
   "outputs": [],
   "source": [
    "# set graph to create matrix for \n",
    "\n",
    "network_name = 'modelnetwork_n1000_'\n",
    "G = G_model1000\n",
    "\n",
    "#network_name =  'graph_tor_'\n",
    "#G = G_tor"
   ]
  },
  {
   "cell_type": "code",
   "execution_count": 122,
   "id": "141720dd-97bc-4b44-b564-988b2426a351",
   "metadata": {},
   "outputs": [],
   "source": [
    "graph_nodes = [str(i) for i in list(G.nodes())]     \n",
    " \n",
    "scale = 1\n",
    "val = 0\n",
    "\n",
    "# just half of graph nodes have features\n",
    "rows = int(len(list(G.nodes()))/2)\n",
    "\n",
    "feat_one = [(val) if i%3 else (scale) for i in range(rows)]\n",
    "feat_two = [(val) if i%2 or feat_one[i]==scale in feat_one else (scale) for i in range(rows)]\n",
    "feat_three = [(scale) if feat_one[i]==val and feat_two[i]==val else val for i in range(rows)]\n",
    "feat_matrix = np.vstack((feat_one,feat_two,feat_three))\n",
    "FM = pd.DataFrame(feat_matrix).T\n",
    "FM.index = list(G.nodes())[:rows]\n",
    "FM.index = FM.index.map(str)"
   ]
  },
  {
   "cell_type": "code",
   "execution_count": 123,
   "id": "34b78bcf-0a6c-4677-922d-e685164369e2",
   "metadata": {},
   "outputs": [
    {
     "data": {
      "text/html": [
       "<div>\n",
       "<style scoped>\n",
       "    .dataframe tbody tr th:only-of-type {\n",
       "        vertical-align: middle;\n",
       "    }\n",
       "\n",
       "    .dataframe tbody tr th {\n",
       "        vertical-align: top;\n",
       "    }\n",
       "\n",
       "    .dataframe thead th {\n",
       "        text-align: right;\n",
       "    }\n",
       "</style>\n",
       "<table border=\"1\" class=\"dataframe\">\n",
       "  <thead>\n",
       "    <tr style=\"text-align: right;\">\n",
       "      <th></th>\n",
       "      <th>0</th>\n",
       "      <th>1</th>\n",
       "      <th>2</th>\n",
       "    </tr>\n",
       "  </thead>\n",
       "  <tbody>\n",
       "    <tr>\n",
       "      <th>330</th>\n",
       "      <td>1</td>\n",
       "      <td>0</td>\n",
       "      <td>0</td>\n",
       "    </tr>\n",
       "    <tr>\n",
       "      <th>2935</th>\n",
       "      <td>0</td>\n",
       "      <td>0</td>\n",
       "      <td>1</td>\n",
       "    </tr>\n",
       "    <tr>\n",
       "      <th>7187</th>\n",
       "      <td>0</td>\n",
       "      <td>1</td>\n",
       "      <td>0</td>\n",
       "    </tr>\n",
       "    <tr>\n",
       "      <th>10456</th>\n",
       "      <td>1</td>\n",
       "      <td>0</td>\n",
       "      <td>0</td>\n",
       "    </tr>\n",
       "    <tr>\n",
       "      <th>7322</th>\n",
       "      <td>0</td>\n",
       "      <td>1</td>\n",
       "      <td>0</td>\n",
       "    </tr>\n",
       "    <tr>\n",
       "      <th>...</th>\n",
       "      <td>...</td>\n",
       "      <td>...</td>\n",
       "      <td>...</td>\n",
       "    </tr>\n",
       "    <tr>\n",
       "      <th>5052</th>\n",
       "      <td>1</td>\n",
       "      <td>0</td>\n",
       "      <td>0</td>\n",
       "    </tr>\n",
       "    <tr>\n",
       "      <th>22836</th>\n",
       "      <td>0</td>\n",
       "      <td>1</td>\n",
       "      <td>0</td>\n",
       "    </tr>\n",
       "    <tr>\n",
       "      <th>2803</th>\n",
       "      <td>0</td>\n",
       "      <td>0</td>\n",
       "      <td>1</td>\n",
       "    </tr>\n",
       "    <tr>\n",
       "      <th>7295</th>\n",
       "      <td>1</td>\n",
       "      <td>0</td>\n",
       "      <td>0</td>\n",
       "    </tr>\n",
       "    <tr>\n",
       "      <th>4163</th>\n",
       "      <td>0</td>\n",
       "      <td>0</td>\n",
       "      <td>1</td>\n",
       "    </tr>\n",
       "  </tbody>\n",
       "</table>\n",
       "<p>500 rows × 3 columns</p>\n",
       "</div>"
      ],
      "text/plain": [
       "       0  1  2\n",
       "330    1  0  0\n",
       "2935   0  0  1\n",
       "7187   0  1  0\n",
       "10456  1  0  0\n",
       "7322   0  1  0\n",
       "...   .. .. ..\n",
       "5052   1  0  0\n",
       "22836  0  1  0\n",
       "2803   0  0  1\n",
       "7295   1  0  0\n",
       "4163   0  0  1\n",
       "\n",
       "[500 rows x 3 columns]"
      ]
     },
     "execution_count": 123,
     "metadata": {},
     "output_type": "execute_result"
    }
   ],
   "source": [
    "FM"
   ]
  },
  {
   "cell_type": "code",
   "execution_count": 124,
   "id": "ebbb3cee-0e1d-4960-b24d-53f0fc2fb39a",
   "metadata": {},
   "outputs": [],
   "source": [
    "FM.to_csv(path+network_name+'features.csv')"
   ]
  },
  {
   "cell_type": "code",
   "execution_count": null,
   "id": "8ce80133-6b31-4784-8221-af5dc86978b8",
   "metadata": {},
   "outputs": [],
   "source": []
  }
 ],
 "metadata": {
  "kernelspec": {
   "display_name": "Python 3",
   "language": "python",
   "name": "python3"
  },
  "language_info": {
   "codemirror_mode": {
    "name": "ipython",
    "version": 3
   },
   "file_extension": ".py",
   "mimetype": "text/x-python",
   "name": "python",
   "nbconvert_exporter": "python",
   "pygments_lexer": "ipython3",
   "version": "3.8.2"
  }
 },
 "nbformat": 4,
 "nbformat_minor": 5
}
